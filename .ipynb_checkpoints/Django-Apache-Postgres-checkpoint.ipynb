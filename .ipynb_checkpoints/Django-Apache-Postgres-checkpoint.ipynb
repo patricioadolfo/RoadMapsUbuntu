{
 "cells": [
  {
   "cell_type": "markdown",
   "id": "caea7edd-7846-4c0e-b0b7-ae3b7f17ff02",
   "metadata": {},
   "source": [
    "<h1>Apache</h1>\n",
    "\n",
    "<h3>Instalacion de apache</h3>\n",
    "\n",
    "Utilizar usuario con permisos root, sino crearlo y darle permisos sudoers "
   ]
  },
  {
   "cell_type": "code",
   "execution_count": null,
   "id": "5cf44278-ef1c-4bcf-a0a8-df6ed31c72e8",
   "metadata": {},
   "outputs": [],
   "source": [
    "adduser webuser\n",
    "gpasswd -a webuser sudo\n",
    "su - webuser\n",
    "cd ~\n",
    "mkdir www"
   ]
  },
  {
   "cell_type": "markdown",
   "id": "897f3549-b79e-4aef-a79c-040bc94b0594",
   "metadata": {},
   "source": [
    "<h3>Instalar dependencias</h3>\n",
    "\n",
    "Python, Virtualenv"
   ]
  },
  {
   "cell_type": "code",
   "execution_count": null,
   "id": "d000d922-79b5-4040-a18d-d9f5dfb09290",
   "metadata": {},
   "outputs": [],
   "source": [
    "sudo apt-get install python-pip\n",
    "sudo pip install virtualenv\n",
    "\n",
    "sudo apt-get install apache2\n",
    "sudo apt-get install libapache2-mod-wsgi-py3"
   ]
  },
  {
   "cell_type": "markdown",
   "id": "15d532b9-0df9-4e34-ae1c-dd8f11826526",
   "metadata": {},
   "source": [
    "<h3>Configuracion de Apache</h3>"
   ]
  },
  {
   "cell_type": "code",
   "execution_count": null,
   "id": "2caf8cf5-c524-4b3e-accd-92f21924059b",
   "metadata": {},
   "outputs": [],
   "source": [
    "sudo rm /etc/apache2/sites-available/000-default.conf\n",
    "sudo nano /etc/apache2/sites-available/<<nombre_web>>.conf"
   ]
  },
  {
   "cell_type": "code",
   "execution_count": null,
   "id": "9fb87b93-5daf-48aa-90de-803252c6922d",
   "metadata": {},
   "outputs": [],
   "source": [
    "  GNU nano 6.2                    /etc/apache2/sites-available/RoadMaps.conf *                            \n",
    "\n",
    "<VirtualHost *:80>      \n",
    "        ServerAdmin patricio\n",
    "        ServerName 192.168.0.14\n",
    "        ServerAlias django\n",
    "\n",
    "        DocumentRoot /home/patricio/www/RoadMaps\n",
    "        \n",
    "        ErrorLog ${APACHE_LOG_DIR}/error.log\n",
    "        CustomLog ${APACHE_LOG_DIR}/access.log combined\n",
    "\n",
    "        <Directory \"/home/patricio/www/RoadMaps\">\n",
    "           Options Indexes FollowSymLinks\n",
    "           AllowOverride All\n",
    "           Require all granted\n",
    "           Allow from All\n",
    "        </Directory>\n",
    "\n",
    "        Alias /static /home/patricio/www/RoadMaps/route/static\n",
    "        <Directory /home/patricio/www/RoadMaps/route/static>\n",
    "                Require all granted\n",
    "                Allow from All\n",
    "        </Directory>\n",
    "\n",
    "        <Directory /home/patricio/www/RoadMaps/RouteMaps>\n",
    "                <Files wsgi.py>\n",
    "                        Require all granted\n",
    "                        Allow from All\n",
    "                </Files>\n",
    "        </Directory>\n",
    "\n",
    "        WSGIDaemonProcess RoadMaps python-path=/home/patricio/www/RoadMaps/ python-home=/home/patricio/ww>\n",
    "        WSGIProcessGroup RoadMaps\n",
    "        WSGIScriptAlias / /home/patricio/www/RoadMaps/RouteMaps/wsgi.py\n",
    "\n",
    "</VirtualHost>\n"
   ]
  },
  {
   "cell_type": "code",
   "execution_count": null,
   "id": "9ee895d0-8b6c-4afc-95da-6f0d445bcae1",
   "metadata": {},
   "outputs": [],
   "source": [
    "sudo a2ensite <<nombre_web>>.conf\n",
    "sudo service apache2 reload\n",
    "sudo adduser <<usuario>> www-data\n",
    "sudo chown -R webuser:www-data /home/<<usuario>>/www\n",
    "sudo chmod 777 /home/<<usuario>>/www"
   ]
  },
  {
   "cell_type": "markdown",
   "id": "294af725-238c-4861-86c9-5c92cb9c258a",
   "metadata": {},
   "source": [
    "<h3>Comandos apache</h3>"
   ]
  },
  {
   "cell_type": "code",
   "execution_count": null,
   "id": "0d12396a-678e-4543-952e-2721c4239de8",
   "metadata": {},
   "outputs": [],
   "source": [
    "sudo systemctl start apache2.service\n",
    "sudo systemctl stop apache2.service\n",
    "sudo systemctl restart apache2.service\n",
    "sudo systemctl status apache2.service\n",
    "sudo apache2ctl configtest\n",
    "\n",
    "#Logs de ERROR\n",
    "sudo nano /var/log/apache2/error.log\n",
    "\n",
    "# Config Proyecto\n",
    "sudo nano /etc/apache2/sites-available/<<proyecto>>.conf"
   ]
  },
  {
   "cell_type": "markdown",
   "id": "5ecbf002-1557-41dc-9240-9e7216d16bd6",
   "metadata": {},
   "source": [
    "<h1>Proyecto</h1>\n",
    "\n",
    "<h3>Repositorio Git</h3>\n",
    "\n",
    "Descargar repo de github y crear un entorno vitual dentro de las carpeta principal del proyecto, una vez en el entorno virtual instalar dependencias para el proyecto"
   ]
  },
  {
   "cell_type": "code",
   "execution_count": null,
   "id": "80c17210-f1c0-49c9-b335-03eb1add73fc",
   "metadata": {},
   "outputs": [],
   "source": [
    "cd ~/www\n",
    "git clone <<url_del_repo>>\n",
    "cd <<folder_repo>> \n",
    "virtualenv -p python3 venv\n",
    "source venv/bin/activate\n",
    "\n",
    "#DENTRO DE EL ENTORNO VIRTUAL\n",
    "\n",
    "pip install django\n",
    "pip install djangorestframework\n",
    "pip install markdown       # Markdown support for the browsable API.\n",
    "pip install django-filter  # Filtering support\n",
    "pip install django-qr-code\n",
    "pip install psycopg\n",
    "\n"
   ]
  },
  {
   "cell_type": "markdown",
   "id": "411f35a2-6410-4801-b7e7-20aaf15d3864",
   "metadata": {},
   "source": [
    "<h3>Configuracion</h3>\n",
    "\n",
    "Configurar el proyecto una vez instalado y configurado apache, postgres y sus dependencias\n",
    "\n",
    "Crear archivo para guardar los datos de forma segura en formato .json"
   ]
  },
  {
   "cell_type": "code",
   "execution_count": null,
   "id": "9c388625-8a34-475d-809c-d040047bdbcb",
   "metadata": {},
   "outputs": [],
   "source": [
    "sudo touch /etc/env-production.json\n",
    "sudo nano /etc/env-production.json\n",
    "\n",
    "####################################################################\n",
    "\n",
    "  GNU nano 6.2                             /etc/env-production.json                                       \n",
    "{\n",
    "        \"ENGINE\": \"django.db.backends.postgresql\",\n",
    "        \"NAME\": \"road\",\n",
    "        \"USER\": \"postgres\",\n",
    "        \"PASSWORD\": \"route53902\",\n",
    "        \"HOST\": \"localhost\",\n",
    "        \"PORT\": \"\"\n",
    "}\n",
    "\n",
    "####################################################################\n",
    "\n",
    "sudo nano <<ruta_settings.py>>/settings.py\n",
    "\n",
    "####################################################################\n",
    "  GNU nano 6.2                                    settings.py *                                           \n",
    "\n",
    "import json\n",
    "\n",
    "with open('/etc/env-production.json') as env_file:\n",
    "        ENVIRONMENT = json.load(env_file)\n",
    "\n",
    "ALLOWED_HOSTS = ['192.168.0.14']\n",
    "\n",
    "DATABASES = {\n",
    "    'default':\n",
    "        {\n",
    "        'ENGINE': ENVIRONMENT.get('ENGINE'),\n",
    "        'NAME': ENVIRONMENT.get('NAME'),\n",
    "        'USER': ENVIRONMENT.get('USER'),\n",
    "        'PASSWORD': ENVIRONMENT.get('PASSWORD'),\n",
    "        'HOST': ENVIRONMENT.get('HOST'),\n",
    "        'PORT': ENVIRONMENT.get('PORT'),\n",
    "    }\n",
    "}\n",
    "\n",
    "STATIC_ROOT = os.path.join(BASE_DIR, 'static_root')\n",
    "#####################################################################\n",
    "\n",
    "python manage.py collectstatic"
   ]
  },
  {
   "cell_type": "markdown",
   "id": "389b1a18-f6a2-4f3e-b318-ee557a53894b",
   "metadata": {},
   "source": [
    "<h1>Firewall</h1>\n",
    "\n",
    "Chequear firewall, comprobar su estado, dar permisos a apache de no tenerlos "
   ]
  },
  {
   "cell_type": "code",
   "execution_count": null,
   "id": "c711adb5-a729-4701-8fdd-e37cca6e7bdb",
   "metadata": {},
   "outputs": [],
   "source": [
    "sudo ufw COMAND\n",
    "\n",
    "Usage: ufw COMMAND\n",
    "\n",
    "Commands:\n",
    " enable                          enables the firewall\n",
    " disable                         disables the firewall\n",
    " default ARG                     set default policy\n",
    " logging LEVEL                   set logging to LEVEL\n",
    " allow ARGS                      add allow rule\n",
    " deny ARGS                       add deny rule\n",
    " reject ARGS                     add reject rule\n",
    " limit ARGS                      add limit rule\n",
    " delete RULE|NUM                 delete RULE\n",
    " insert NUM RULE                 insert RULE at NUM\n",
    " prepend RULE                    prepend RULE\n",
    " route RULE                      add route RULE\n",
    " route delete RULE|NUM           delete route RULE\n",
    " route insert NUM RULE           insert route RULE at NUM\n",
    " reload                          reload firewall\n",
    " reset                           reset firewall\n",
    " status                          show firewall status\n",
    " status numbered                 show firewall status as numbered list of RULES\n",
    " status verbose                  show verbose firewall status\n",
    " show ARG                        show firewall report\n",
    " version                         display version information\n",
    "\n",
    "Application profile commands:\n",
    " app list                        list application profiles\n",
    " app info PROFILE                show information on PROFILE\n",
    " app update PROFILE              update PROFILE\n",
    " app default ARG                 set default application policy\n"
   ]
  },
  {
   "cell_type": "markdown",
   "id": "500508a2-1427-49f0-88ea-40fd1847fcb1",
   "metadata": {},
   "source": [
    "<h1>PostgrestSQL</h1>\n",
    "\n",
    "<h3>Instalacion</h3>"
   ]
  },
  {
   "cell_type": "code",
   "execution_count": null,
   "id": "0db40be2-f9c1-4697-b8dd-e149e80982e4",
   "metadata": {},
   "outputs": [],
   "source": [
    "sudo apt-get install postgresql postgresql-contrib"
   ]
  },
  {
   "cell_type": "markdown",
   "id": "c3aa539d-b69b-4e2c-bd7e-da31d5b01be6",
   "metadata": {},
   "source": [
    "<h3>Configuracion</h3>\n",
    "\n",
    "Desde postgrest se crea la base de datos y se le da permisos al usuario postgrest con contraseña redefinida "
   ]
  },
  {
   "cell_type": "code",
   "execution_count": null,
   "id": "f2ea8ef6-a126-4965-821d-b4c94001a0c2",
   "metadata": {},
   "outputs": [],
   "source": [
    "sudo -u postgres psql\n",
    "\n",
    "postgres=# CREATE DATABASE road;\n",
    "postgres=# \\connect road;\n",
    "postgres=# ALTER USER postgres with encrypted password 'route53902';\n",
    "postgres=# GRANT ALL PRIVILEGES ON road TO postgrest\n",
    "postgres=# \\q\n"
   ]
  }
 ],
 "metadata": {
  "kernelspec": {
   "display_name": "",
   "name": ""
  },
  "language_info": {
   "name": ""
  }
 },
 "nbformat": 4,
 "nbformat_minor": 5
}
